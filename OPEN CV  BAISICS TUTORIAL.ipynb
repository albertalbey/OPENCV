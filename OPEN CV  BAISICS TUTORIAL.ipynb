{
 "cells": [
  {
   "cell_type": "markdown",
   "metadata": {},
   "source": [
    "# __OPEN CV BASICS TUTORIAL__"
   ]
  },
  {
   "cell_type": "markdown",
   "metadata": {},
   "source": [
    "__1. Reading, Showing and Wring using Open CV__"
   ]
  },
  {
   "cell_type": "code",
   "execution_count": 17,
   "metadata": {},
   "outputs": [
    {
     "name": "stdout",
     "output_type": "stream",
     "text": [
      "4.2.0\n"
     ]
    }
   ],
   "source": [
    "import numpy as np\n",
    "import cv2\n",
    "print(cv2.__version__)\n",
    "import os\n",
    "import datetime\n",
    "#print(str(datetime.datetime.now()))"
   ]
  },
  {
   "cell_type": "code",
   "execution_count": 2,
   "metadata": {},
   "outputs": [],
   "source": [
    "path='E:/opencv-master/opencv-master/samples/data'\n",
    "##dataset from : https://github.com/opencv/opencv"
   ]
  },
  {
   "cell_type": "code",
   "execution_count": 18,
   "metadata": {},
   "outputs": [],
   "source": [
    "img=cv2.imread('E:/opencv-master/opencv-master/samples/data/lena.jpg',1) ##reading 0-gray, 1-color\n",
    "cv2.imshow('image',img) ##showing\n",
    "k=cv2.waitKey(0)\n",
    "if k==27: ##press esc key to close all windows\n",
    "    cv2.destroyAllWindows()\n",
    "elif k==ord('s'): ## press s key to save and exit\n",
    "    cv2.imwrite('lena_copy.png',img)\n",
    "    print('image saved at')\n",
    "    print(os.getcwd())\n",
    "    cv2.waitKey(0)\n",
    "    cv2.destroyAllWindows()"
   ]
  },
  {
   "cell_type": "markdown",
   "metadata": {},
   "source": [
    "__1.b. Reading, Showing and Wring using Open CV and MATPLOT LIB__"
   ]
  },
  {
   "cell_type": "code",
   "execution_count": 14,
   "metadata": {},
   "outputs": [
    {
     "ename": "error",
     "evalue": "OpenCV(4.2.0) C:\\projects\\opencv-python\\opencv\\modules\\imgproc\\src\\color.cpp:182: error: (-215:Assertion failed) !_src.empty() in function 'cv::cvtColor'\n",
     "output_type": "error",
     "traceback": [
      "\u001b[1;31m---------------------------------------------------------------------------\u001b[0m",
      "\u001b[1;31merror\u001b[0m                                     Traceback (most recent call last)",
      "\u001b[1;32m<ipython-input-14-058cdd8814d3>\u001b[0m in \u001b[0;36m<module>\u001b[1;34m\u001b[0m\n\u001b[0;32m      3\u001b[0m \u001b[0mimg\u001b[0m\u001b[1;33m=\u001b[0m\u001b[0mcv2\u001b[0m\u001b[1;33m.\u001b[0m\u001b[0mimread\u001b[0m\u001b[1;33m(\u001b[0m\u001b[1;34m'E:/opencv-master/opencv-master/samples/data/j.png'\u001b[0m\u001b[1;33m,\u001b[0m\u001b[1;33m-\u001b[0m\u001b[1;36m1\u001b[0m\u001b[1;33m)\u001b[0m \u001b[1;31m## opencv reads images in BGR format\u001b[0m\u001b[1;33m\u001b[0m\u001b[1;33m\u001b[0m\u001b[0m\n\u001b[0;32m      4\u001b[0m \u001b[1;31m#cv2.imshow('Image',img)\u001b[0m\u001b[1;33m\u001b[0m\u001b[1;33m\u001b[0m\u001b[1;33m\u001b[0m\u001b[0m\n\u001b[1;32m----> 5\u001b[1;33m \u001b[0mimg\u001b[0m\u001b[1;33m=\u001b[0m\u001b[0mcv2\u001b[0m\u001b[1;33m.\u001b[0m\u001b[0mcvtColor\u001b[0m\u001b[1;33m(\u001b[0m\u001b[0mimg\u001b[0m\u001b[1;33m,\u001b[0m \u001b[0mcv2\u001b[0m\u001b[1;33m.\u001b[0m\u001b[0mCOLOR_BGR2RGB\u001b[0m\u001b[1;33m)\u001b[0m \u001b[1;31m## matplotlib shows images in RGB format\u001b[0m\u001b[1;33m\u001b[0m\u001b[1;33m\u001b[0m\u001b[0m\n\u001b[0m\u001b[0;32m      6\u001b[0m \u001b[0mplt\u001b[0m\u001b[1;33m.\u001b[0m\u001b[0mimshow\u001b[0m\u001b[1;33m(\u001b[0m\u001b[0mimg\u001b[0m\u001b[1;33m)\u001b[0m\u001b[1;33m\u001b[0m\u001b[1;33m\u001b[0m\u001b[0m\n\u001b[0;32m      7\u001b[0m \u001b[0mplt\u001b[0m\u001b[1;33m.\u001b[0m\u001b[0mxticks\u001b[0m\u001b[1;33m(\u001b[0m\u001b[1;33m[\u001b[0m\u001b[1;33m]\u001b[0m\u001b[1;33m)\u001b[0m\u001b[1;33m,\u001b[0m\u001b[0mplt\u001b[0m\u001b[1;33m.\u001b[0m\u001b[0myticks\u001b[0m\u001b[1;33m(\u001b[0m\u001b[1;33m[\u001b[0m\u001b[1;33m]\u001b[0m\u001b[1;33m)\u001b[0m \u001b[1;31m#to remove x and axis marks\u001b[0m\u001b[1;33m\u001b[0m\u001b[1;33m\u001b[0m\u001b[0m\n",
      "\u001b[1;31merror\u001b[0m: OpenCV(4.2.0) C:\\projects\\opencv-python\\opencv\\modules\\imgproc\\src\\color.cpp:182: error: (-215:Assertion failed) !_src.empty() in function 'cv::cvtColor'\n"
     ]
    }
   ],
   "source": [
    "import matplotlib.pyplot as plt\n",
    "%matplotlib notebook\n",
    "\n",
    "img=cv2.imread('E:/opencv-master/opencv-master/samples/data/lena.jpg',-1) ## opencv reads images in BGR format\n",
    "#cv2.imshow('Image',img)\n",
    "img=cv2.cvtColor(img, cv2.COLOR_BGR2RGB) ## matplotlib shows images in RGB format\n",
    "plt.imshow(img)\n",
    "plt.xticks([]),plt.yticks([]) #to remove x and axis marks\n",
    "plt.show()\n",
    "\n",
    "cv2.waitKey(0)\n",
    "cv2.destroyAllWindows()"
   ]
  },
  {
   "cell_type": "markdown",
   "metadata": {},
   "source": [
    "__2. Using read, dispaly and save vedios using cameras__, __Changing properties of captured vedio__, __Putting text On the video__"
   ]
  },
  {
   "cell_type": "code",
   "execution_count": 8,
   "metadata": {},
   "outputs": [
    {
     "name": "stdout",
     "output_type": "stream",
     "text": [
      "True\n",
      "Video saved at\n",
      "C:\\Users\\alber\n"
     ]
    }
   ],
   "source": [
    "cap= cv2.VideoCapture(0);\n",
    "fourcc=cv2.VideoWriter_fourcc(*'XVID') ##codec\n",
    "out=cv2.VideoWriter('output.avi', fourcc,20.0,(640,480)) ## filname, codec, frame size\n",
    "\n",
    "cap.set(3,1208) ## changing the width of the frame\n",
    "cap.set(4, 720) ## changing the height of the frame\n",
    "    \n",
    "print(cap.isOpened())\n",
    "\n",
    "while (True): \n",
    "    ret, frame= cap.read() ##(ret-boolean variable check for frame)\n",
    "    \n",
    "    if ret== True:\n",
    "    \n",
    "        #print(cap.get(cv2.CAP_PROP_FRAME_WIDTH))\n",
    "        #print(cap.get(cv2.CAP_PROP_FRAME_HEIGHT))\n",
    "        \n",
    "        out.write(frame)\n",
    "\n",
    "        '''\n",
    "        gray= cv2.cvtColor(frame, cv2.COLOR_BGR2GRAY) ## to convert colored to gray scale\n",
    "        cv2.imshow('frame', gray) ## gray '''\n",
    "        text='Width:'+str(cap.get(3))+', Height:'+str(cap.get(4))+' '\n",
    "        datet=str(datetime.datetime.now())\n",
    "        font=cv2.FONT_HERSHEY_SIMPLEX\n",
    "        frame=cv2.putText(frame, datet, (10,50), font, 1,(0,255,255), 2, cv2.LINE_AA) ##putting text on the vedio\n",
    "\n",
    "        cv2.imshow('frame.avi', frame) ## color\n",
    "        \n",
    "        if cv2.waitKey(1)&0xFF==ord('q'): ## press q to exit\n",
    "            print('Video saved at')\n",
    "            print(os.getcwd())\n",
    "            break\n",
    "    else:\n",
    "        break\n",
    "        \n",
    "cap.release()\n",
    "cv2.destroyAllWindows()"
   ]
  },
  {
   "cell_type": "code",
   "execution_count": 9,
   "metadata": {},
   "outputs": [
    {
     "data": {
      "text/plain": [
       "datetime.datetime(2020, 6, 23, 12, 2, 42, 71678)"
      ]
     },
     "execution_count": 9,
     "metadata": {},
     "output_type": "execute_result"
    }
   ],
   "source": [
    "cap.release()\n",
    "cv2.destroyAllWindows()\n",
    "datetime.datetime.now()\n"
   ]
  },
  {
   "cell_type": "markdown",
   "metadata": {},
   "source": [
    "__3. Drawing Geometric Shapes__"
   ]
  },
  {
   "cell_type": "code",
   "execution_count": 18,
   "metadata": {},
   "outputs": [],
   "source": [
    "#img=cv2.imread('E:/opencv-master/opencv-master/samples/data/lena.jpg',1) ##reading 0-gray, 1-color\n",
    "img=np.zeros([512, 512, 3], np.uint8)## numpy to create image\n",
    "img=cv2.line(img, (0,0), (255,255), (255,0,0), 5) ## drawing line (image, (x1,y1), (x2,y2), (B,G,R colour), thickness)\n",
    "img=cv2.arrowedLine(img, (0,255), (255,255), (147,96,44), 10)\n",
    "img=cv2.rectangle(img, (384,0), (510,128), (0,0,255), -1)## thickness -1 to fill \n",
    "img=cv2.circle(img,(447,63), 63, (0,255,0), -1)\n",
    "font=cv2.FONT_HERSHEY_SIMPLEX\n",
    "img=cv2.putText(img, 'OpenCV', (10,500),font, 4,(0,255,255), 10, cv2.LINE_AA) ##putting \n",
    "cv2.imshow('image',img) ##showing\n",
    "k=cv2.waitKey(0)\n",
    "cv2.destroyAllWindows()"
   ]
  },
  {
   "cell_type": "markdown",
   "metadata": {},
   "source": [
    "__4. Mouse Events  (Returns coordinates and colour of any point in a picture)__"
   ]
  },
  {
   "cell_type": "code",
   "execution_count": 5,
   "metadata": {},
   "outputs": [
    {
     "name": "stdout",
     "output_type": "stream",
     "text": [
      "['EVENT_FLAG_ALTKEY', 'EVENT_FLAG_CTRLKEY', 'EVENT_FLAG_LBUTTON', 'EVENT_FLAG_MBUTTON', 'EVENT_FLAG_RBUTTON', 'EVENT_FLAG_SHIFTKEY', 'EVENT_LBUTTONDBLCLK', 'EVENT_LBUTTONDOWN', 'EVENT_LBUTTONUP', 'EVENT_MBUTTONDBLCLK', 'EVENT_MBUTTONDOWN', 'EVENT_MBUTTONUP', 'EVENT_MOUSEHWHEEL', 'EVENT_MOUSEMOVE', 'EVENT_MOUSEWHEEL', 'EVENT_RBUTTONDBLCLK', 'EVENT_RBUTTONDOWN', 'EVENT_RBUTTONUP']\n"
     ]
    }
   ],
   "source": [
    "events=[i for i in dir(cv2) if 'EVENT' in i] ##listing all events in cv2 library\n",
    "print(events)"
   ]
  },
  {
   "cell_type": "code",
   "execution_count": 39,
   "metadata": {},
   "outputs": [
    {
     "name": "stdout",
     "output_type": "stream",
     "text": [
      "325   289\n",
      "400   291\n",
      "330   338\n",
      "407   339\n"
     ]
    }
   ],
   "source": [
    "def click_event(event, x, y, flags, param):\n",
    "    if event == cv2.EVENT_LBUTTONDOWN:\n",
    "        print(x,' ',y)\n",
    "        font=cv2.FONT_HERSHEY_SIMPLEX\n",
    "        strXY=str(x)+' , '+str(y)\n",
    "        cv2.putText(img, strXY, (x, y), font, 1, (255,255,0), 1) ## print x and y coordinates of position of left mouse click\n",
    "        cv2.imshow('image', img)\n",
    "    \n",
    "    if event == cv2.EVENT_RBUTTONDOWN:\n",
    "        blue=img [y, x, 0]\n",
    "        red=img [y, x, 2]\n",
    "        green=img [y, x, 1]\n",
    "        font=cv2.FONT_HERSHEY_SIMPLEX\n",
    "        strBGR=str(blue)+', '+str(green)+', '+str(red)\n",
    "        cv2.putText(img, strBGR, (x, y), font, 1, (0,255,0), 2) ## prints color\n",
    "        cv2.imshow('image', img) \n",
    "        \n",
    "#img=np.zeros((512,512, 3), np.uint8) #returns balck picture\n",
    "#img=cv2.imread('E:/opencv-master/opencv-master/samples/data/lena.jpg',1)\n",
    "img=cv2.imread('E:/opencv-master/opencv-master/samples/data/messi5.jpg',1)\n",
    "img\n",
    "cv2.imshow('image', img)\n",
    "\n",
    "cv2.setMouseCallback('image', click_event)\n",
    "cv2.waitKey(0)\n",
    "cv2.destroyAllWindows()"
   ]
  },
  {
   "cell_type": "code",
   "execution_count": 37,
   "metadata": {},
   "outputs": [],
   "source": [
    "## joining points in a image\n",
    "def click_event(event, x, y, flags, param):\n",
    "    if event == cv2.EVENT_LBUTTONDOWN:\n",
    "        cv2.circle(img, (x,y),3,(0,0,255),-1)\n",
    "        points.append((x,y))\n",
    "        if len(points)>=2:\n",
    "            cv2.line(img, points[-1], points[-2], (255,0,0), 5) ##joining last and second last points\n",
    "        cv2.imshow('image',img)\n",
    "    \n",
    "        \n",
    "#img=np.zeros((512,512, 3), np.uint8) #returns black picture\n",
    "#img=cv2.imread('E:/opencv-master/opencv-master/samples/data/lena.jpg',1\n",
    "img=cv2.imread('E:/opencv-master/opencv-master/samples/data/messi5.jpg',1)\n",
    "img\n",
    "cv2.imshow('image', img)\n",
    "points=[]\n",
    "cv2.setMouseCallback('image', click_event)\n",
    "cv2.waitKey(0)\n",
    "cv2.destroyAllWindows()"
   ]
  },
  {
   "cell_type": "markdown",
   "metadata": {},
   "source": [
    "__5. Opening  a second window__"
   ]
  },
  {
   "cell_type": "code",
   "execution_count": 30,
   "metadata": {},
   "outputs": [],
   "source": [
    "## joining points in a image\n",
    "def click_event(event, x, y, flags, param):\n",
    "    if event == cv2.EVENT_LBUTTONDOWN:\n",
    "        blue=img[x,y,0]\n",
    "        green=img[x,y,1]\n",
    "        red=img[x,y,2]\n",
    "        cv2.circle(img, (x,y),3,(0,0,255),-1)\n",
    "        \n",
    "        cv2.imshow('image',img)\n",
    "        mycolor=np.zeros([512, 512, 3], np.uint8)## numpy to create image\n",
    "        mycolor[:]=[blue,green,red]\n",
    "        cv2.imshow('color',mycolor)\n",
    "        \n",
    "#img=np.zeros((512,512, 3), np.uint8) #returns black picture\n",
    "img=cv2.imread('E:/opencv-master/opencv-master/samples/data/lena.jpg',1)\n",
    "cv2.imshow('image', img)\n",
    "points=[]\n",
    "cv2.setMouseCallback('image', click_event)\n",
    "cv2.waitKey(0)\n",
    "cv2.destroyAllWindows()"
   ]
  },
  {
   "cell_type": "markdown",
   "metadata": {},
   "source": [
    "__6. Arithamatic operations on image__"
   ]
  },
  {
   "cell_type": "code",
   "execution_count": 35,
   "metadata": {},
   "outputs": [
    {
     "name": "stdout",
     "output_type": "stream",
     "text": [
      "(342, 548, 3)\n",
      "562248\n",
      "uint8\n"
     ]
    }
   ],
   "source": [
    "img=cv2.imread('E:/opencv-master/opencv-master/samples/data/messi5.jpg',1)\n",
    "print(img.shape) ##tupple of rows, columns and channels\n",
    "print(img.size) ##returns total no. of pixels\n",
    "print(img.dtype)\n",
    "b,g,r=cv2.split(img)\n",
    "#cv2.imshow('blue',b)\n",
    "img=cv2.merge((b,g,r))\n",
    "cv2.imshow('image',img)\n",
    "cv2.waitKey(0)\n",
    "cv2.destroyAllWindows()"
   ]
  },
  {
   "cell_type": "markdown",
   "metadata": {},
   "source": [
    "__7. Copy, Paste ROI of Image__"
   ]
  },
  {
   "cell_type": "code",
   "execution_count": 4,
   "metadata": {},
   "outputs": [],
   "source": [
    "img=cv2.imread('E:/opencv-master/opencv-master/samples/data/messi5.jpg',1)\n",
    "ball=img[280:340, 330:390] ##selecting the ROI(ball here)\n",
    "img[273:333, 100:160]=ball ##pasting in new position\n",
    "cv2.imshow('image', img)\n",
    "cv2.waitKey(0)\n",
    "cv2.destroyAllWindows()"
   ]
  },
  {
   "cell_type": "markdown",
   "metadata": {},
   "source": [
    "__8. Add 2 Image__"
   ]
  },
  {
   "cell_type": "code",
   "execution_count": 12,
   "metadata": {},
   "outputs": [],
   "source": [
    "img=cv2.imread('E:/opencv-master/opencv-master/samples/data/messi5.jpg',1)\n",
    "img2=cv2.imread('E:/opencv-master/opencv-master/samples/data/opencv-logo.png',1)\n",
    "\n",
    "'''re sizing both images to same size for adding'''\n",
    "img=cv2.resize(img, (512,512))\n",
    "img2=cv2.resize(img2, (512,512))\n",
    "\n",
    "dst=cv2.add(img, img2);\n",
    "dst2= cv2.addWeighted(img,0.9,img2,0.1,0)##weighted add formula: dst = src1*alpha + src2*beta + gamma;\n",
    "cv2.imshow('image', dst2)\n",
    "cv2.waitKey(0)\n",
    "cv2.destroyAllWindows()"
   ]
  },
  {
   "cell_type": "markdown",
   "metadata": {},
   "source": [
    "__9. Performing Bitwise operation__"
   ]
  },
  {
   "cell_type": "code",
   "execution_count": 13,
   "metadata": {},
   "outputs": [
    {
     "name": "stdout",
     "output_type": "stream",
     "text": [
      "(250, 500, 3)\n"
     ]
    }
   ],
   "source": [
    "img1=np.zeros((250,500,3), np.uint8)\n",
    "img1=cv2.rectangle(img1,(200,0),(300,100),(255,255,255),-1)#making a white rectangle\n",
    "img2=np.zeros((250,500,3), np.uint8)\n",
    "print(img2.shape)\n",
    "img2=cv2.rectangle(img2,(250,0),(0,500),(255,255,255),-1)#making a white rectangle\n",
    "img2=cv2.flip(img2,cv2.ROTATE_180)\n",
    "\n",
    "bitOp=cv2.bitwise_and(img1,img2) ## logical AND operation, Black=0, White=1\n",
    "#bitOp=cv2.bitwise_or(img1,img2) ## logical OR operation\n",
    "#bitOp=cv2.bitwise_xor(img1,img2) ## logical XOR operation\n",
    "#bitOp=cv2.bitwise_not(img1) ## logical NOT operation\n",
    "\n",
    "cv2.imshow('image1', img1)\n",
    "cv2.imshow('image2', img2)\n",
    "cv2.imshow('image3', bitOp)\n",
    "cv2.waitKey(0)\n",
    "cv2.destroyAllWindows()"
   ]
  },
  {
   "cell_type": "markdown",
   "metadata": {},
   "source": [
    "__10. Creating Trackbar (Example 1)__"
   ]
  },
  {
   "cell_type": "code",
   "execution_count": 4,
   "metadata": {},
   "outputs": [],
   "source": [
    "'''4 taskbars: B;G;R taskbars and a switch'''\n",
    "\n",
    "import cv2 as cv\n",
    "import numpy as np\n",
    "\n",
    "def nothing(x):\n",
    "    pass\n",
    "    \n",
    "img=np.zeros((300,500,3), np.uint8)\n",
    "cv.namedWindow('image')\n",
    "cv.createTrackbar('B', 'image',0,255,nothing)\n",
    "cv.createTrackbar('G', 'image',0,255,nothing)\n",
    "cv.createTrackbar('R', 'image',0,255,nothing)\n",
    "\n",
    "switch='0:OFF\\n 1:ON'\n",
    "cv.createTrackbar(switch, 'image',0,1,nothing)\n",
    "while(1):\n",
    "    cv.imshow('image',img)\n",
    "    k=cv.waitKey(1) & 0xFF\n",
    "    if k== 27: ##press esc key to close all windows \n",
    "        break\n",
    "    b=cv.getTrackbarPos('B','image')\n",
    "    g=cv.getTrackbarPos('G','image')\n",
    "    r=cv.getTrackbarPos('R','image')\n",
    "    s=cv.getTrackbarPos(switch,'image')\n",
    "    \n",
    "    if s == 0:\n",
    "        img[:]=0\n",
    "    else:\n",
    "        img[:]=[b,g,r]\n",
    "        \n",
    "cv.destroyAllWindows()"
   ]
  },
  {
   "cell_type": "markdown",
   "metadata": {},
   "source": [
    "__10. Creating Trackbar (Example 2)__"
   ]
  },
  {
   "cell_type": "code",
   "execution_count": 5,
   "metadata": {},
   "outputs": [],
   "source": [
    "'''2 taskbars: Number taskbars and a switch'''\n",
    "\n",
    "import cv2 as cv\n",
    "import numpy as np\n",
    "\n",
    "def nothing(x):\n",
    "    pass\n",
    "    \n",
    "#img=np.zeros((300,500,3), np.uint8)\n",
    "cv.namedWindow('image')\n",
    "cv.createTrackbar('CP', 'image', 10,400,nothing) #current position\n",
    "\n",
    "switch='0:OFF\\n 1:ON'\n",
    "cv.createTrackbar(switch, 'image',0,1,nothing)\n",
    "\n",
    "while(1):\n",
    "    img=cv.imread('E:/opencv-master/opencv-master/samples/data/lena.jpg',1)\n",
    "    pos=cv.getTrackbarPos('CP','image')\n",
    "    font=cv.FONT_HERSHEY_SIMPLEX\n",
    "    cv.putText(img, str(pos), (50,150), font, 4, (0,0,255))\n",
    "\n",
    "    k=cv.waitKey(1) & 0xFF\n",
    "\n",
    "    if k== 27: ##press esc key to close all windows \n",
    "        break\n",
    "    \n",
    "    s=cv.getTrackbarPos(switch,'image')\n",
    "    \n",
    "    if s == 0:\n",
    "        pass\n",
    "    else:\n",
    "        img=cv.cvtColor(img, cv.COLOR_BGR2GRAY)\n",
    "    cv.imshow('image',img)\n",
    "cv.destroyAllWindows()"
   ]
  },
  {
   "cell_type": "code",
   "execution_count": null,
   "metadata": {},
   "outputs": [],
   "source": []
  }
 ],
 "metadata": {
  "celltoolbar": "Raw Cell Format",
  "kernelspec": {
   "display_name": "Python 3",
   "language": "python",
   "name": "python3"
  },
  "language_info": {
   "codemirror_mode": {
    "name": "ipython",
    "version": 3
   },
   "file_extension": ".py",
   "mimetype": "text/x-python",
   "name": "python",
   "nbconvert_exporter": "python",
   "pygments_lexer": "ipython3",
   "version": "3.7.6"
  }
 },
 "nbformat": 4,
 "nbformat_minor": 4
}
