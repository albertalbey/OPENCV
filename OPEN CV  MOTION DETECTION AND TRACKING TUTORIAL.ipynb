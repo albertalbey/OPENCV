{
 "cells": [
  {
   "cell_type": "markdown",
   "metadata": {},
   "source": [
    "__1. Motion Detection__"
   ]
  },
  {
   "cell_type": "code",
   "execution_count": 1,
   "metadata": {},
   "outputs": [
    {
     "name": "stdout",
     "output_type": "stream",
     "text": [
      "Libraries Loaded\n"
     ]
    }
   ],
   "source": [
    "import cv2\n",
    "import cv2 as cv\n",
    "import numpy as np\n",
    "import matplotlib.pyplot as plt\n",
    "%matplotlib notebook\n",
    "#%matplotlib tk ##for interactive images in popup window \n",
    "plt.ioff() ##prevents plots getting overwritten\n",
    "print(\"Libraries Loaded\")"
   ]
  },
  {
   "cell_type": "code",
   "execution_count": 45,
   "metadata": {},
   "outputs": [],
   "source": [
    "cap=cv2.VideoCapture('E:/opencv-master/opencv-master/samples/data/vtest.avi')\n",
    "\n",
    "ret, frame1= cap.read()\n",
    "ret, frame2= cap.read()\n",
    "\n",
    "while cap.isOpened(): \n",
    "    diff=cv2.absdiff(frame1,frame2) \n",
    "    gray=cv2.cvtColor(diff, cv2.COLOR_BGR2GRAY) ## converting diff to grayscale, to find contours\n",
    "    blur=cv2.GaussianBlur(gray,(5,5),0) ## blurring\n",
    "    _, thresh=cv2.threshold(blur,20,255,cv2.THRESH_BINARY) ##threshhold\n",
    "    dilated=cv2.dilate(thresh, None, iterations=3)  ## dilate threshholded image to fill in all holes to find better contours\n",
    "    contours,_=cv2.findContours(dilated, cv2.RETR_TREE, cv2.CHAIN_APPROX_SIMPLE)\n",
    "    \n",
    "    #cv2.drawContours(frame1, contours, -1, (0,255,0), 2) ##drawing contours on frame 1\n",
    "    '''To draw rectangele for contours'''\n",
    "    for contour in contours:\n",
    "        (x,y,w,h)=cv2.boundingRect(contour)\n",
    "        \n",
    "        '''Contour Rectangle Area of >1000 is only considered'''\n",
    "        if cv2.contourArea(contour)<1000:\n",
    "            continue\n",
    "            \n",
    "        cv2.rectangle(frame1, (x,y),(x+w,y+h), (0,255,0), 2)\n",
    "        cv2.putText(frame1, \"Status: {}\".format(\"Movement\"), (10,20), cv2.FONT_HERSHEY_SIMPLEX, 1, (0,0,255), 2)\n",
    "    \n",
    "    \n",
    "    \n",
    "    cv2.imshow('feed', frame1) \n",
    "    frame1=frame2\n",
    "    ret, frame2=cap.read()\n",
    "    \n",
    "    \n",
    "    if cv2.waitKey(40)&0xFF==27: ## press esc to exit\n",
    "        break\n",
    "\n",
    "cap.release()\n",
    "cv2.destroyAllWindows()"
   ]
  },
  {
   "cell_type": "markdown",
   "metadata": {},
   "source": [
    "__2. Facial Detection in vedio__"
   ]
  },
  {
   "cell_type": "code",
   "execution_count": 4,
   "metadata": {},
   "outputs": [],
   "source": [
    "face_cascade=cv.CascadeClassifier('E:/opencv-master/opencv-master/data/haarcascades/haarcascade_frontalface_default.xml')\n",
    "eye_cascade=cv.CascadeClassifier('E:/opencv-master/opencv-master/data/haarcascades/haarcascade_eye_tree_eyeglasses.xml')\n",
    "\n",
    "cap=cap= cv2.VideoCapture(0);\n",
    "\n",
    "while cap.isOpened():\n",
    "    ret, frame= cap.read()\n",
    "    gray=cv.cvtColor(frame, cv.COLOR_BGR2GRAY)\n",
    "    faces=face_cascade.detectMultiScale(gray, 1.1, 4)\n",
    "    \n",
    "\n",
    "    for (x,y,w,h) in faces:\n",
    "        cv.rectangle(frame, (x,y), (x+w,y+h), (255,0,0), 3)\n",
    "        roi_gray= gray[y:y+h, x:x+w]\n",
    "        roi_col= frame[y:y+h, x:x+w]\n",
    "        eyes=eye_cascade.detectMultiScale(roi_gray)\n",
    "        \n",
    "        for (ex,ey,ew,eh) in eyes:\n",
    "            cv.rectangle(roi_col, (ex,ey), (ex+ew,ey+eh), (255,0,0), 3)\n",
    "            \n",
    "\n",
    "    cv.imshow('Image', frame)\n",
    "    \n",
    "    if cv.waitKey(1)&0xFF == ord('q'):\n",
    "        break\n",
    "    \n",
    "cap.release()\n",
    "cv.destroyAllWindows()"
   ]
  },
  {
   "cell_type": "code",
   "execution_count": null,
   "metadata": {},
   "outputs": [],
   "source": []
  }
 ],
 "metadata": {
  "kernelspec": {
   "display_name": "Python 3",
   "language": "python",
   "name": "python3"
  },
  "language_info": {
   "codemirror_mode": {
    "name": "ipython",
    "version": 3
   },
   "file_extension": ".py",
   "mimetype": "text/x-python",
   "name": "python",
   "nbconvert_exporter": "python",
   "pygments_lexer": "ipython3",
   "version": "3.7.6"
  }
 },
 "nbformat": 4,
 "nbformat_minor": 4
}
